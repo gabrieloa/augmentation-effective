{
 "cells": [
  {
   "cell_type": "code",
   "execution_count": 44,
   "metadata": {},
   "outputs": [],
   "source": [
    "import pickle\n",
    "import numpy as np\n",
    "import pandas as pd"
   ]
  },
  {
   "cell_type": "code",
   "execution_count": 45,
   "metadata": {},
   "outputs": [],
   "source": [
    "list_df = []\n",
    "for idx in range(50):\n",
    "    with open(f\"../experiments/app_reviews/metrics_base_500_{idx}.pkl\", \"rb\") as f:\n",
    "        base = pickle.load(f)\n",
    "    ba_base = []\n",
    "    ba_opt = []\n",
    "    for k in range(len(base)):\n",
    "        tn, fp, fn, tp = base[k]['matrix'][.5].ravel()\n",
    "        ba = (tp/(tp+fn) + tn/(tn+fp))/2\n",
    "        ba_base.append(ba)\n",
    "        thr = base[k]['thr']\n",
    "        tn, fp, fn, tp = base[k]['matrix'][thr].ravel()\n",
    "        ba = (tp/(tp+fn) + tn/(tn+fp))/2\n",
    "        ba_opt.append(ba)\n",
    "    for target in np.arange(.25, .51, .05):\n",
    "        target = np.round(target, 2)\n",
    "        with open(f\"../experiments/app_reviews/Upsampling/target_{target}_500_{idx}.pkl\", \"rb\") as f:\n",
    "            target_dict = pickle.load(f)\n",
    "        ba_target = []\n",
    "        ba_target_opt = []\n",
    "        for k in range(len(target_dict)):\n",
    "            tn, fp, fn, tp = target_dict[k]['matrix'][.5].ravel()\n",
    "            ba = (tp/(tp+fn) + tn/(tn+fp))/2\n",
    "            ba_target.append(ba)\n",
    "            thr = target_dict[k]['thr']\n",
    "            tn, fp, fn, tp = target_dict[k]['matrix'][thr].ravel()\n",
    "            ba = (tp/(tp+fn) + tn/(tn+fp))/2\n",
    "            ba_target_opt.append(ba)\n",
    "        df_tmp = pd.DataFrame({'target': ba_target, 'target_opt': ba_target_opt})\n",
    "        df_tmp[\"target_value\"] = target\n",
    "        df_tmp[\"base\"] = np.mean(ba_base)\n",
    "        df_tmp[\"base_opt\"] = np.mean(ba_opt)\n",
    "        list_df.append(df_tmp)        "
   ]
  },
  {
   "cell_type": "code",
   "execution_count": 46,
   "metadata": {},
   "outputs": [],
   "source": [
    "df_final = pd.concat(list_df)"
   ]
  },
  {
   "cell_type": "code",
   "execution_count": 47,
   "metadata": {},
   "outputs": [],
   "source": [
    "df_final[\"Cut-off 0.5 (default)\"] = (df_final.target - df_final.base)/df_final.base * 100\n",
    "df_final[\"Optimized cut-off\"] = (df_final.target - df_final.base_opt)/df_final.base_opt * 100"
   ]
  },
  {
   "cell_type": "code",
   "execution_count": 48,
   "metadata": {},
   "outputs": [],
   "source": [
    "df_final = df_final.melt(id_vars=[\"target_value\"], value_vars=[\"Cut-off 0.5 (default)\", \"Optimized cut-off\"])"
   ]
  },
  {
   "cell_type": "code",
   "execution_count": 51,
   "metadata": {},
   "outputs": [],
   "source": [
    "df_final.to_csv(\"boxplot.csv\")"
   ]
  }
 ],
 "metadata": {
  "kernelspec": {
   "display_name": "NLPDataAugmentation",
   "language": "python",
   "name": "python3"
  },
  "language_info": {
   "codemirror_mode": {
    "name": "ipython",
    "version": 3
   },
   "file_extension": ".py",
   "mimetype": "text/x-python",
   "name": "python",
   "nbconvert_exporter": "python",
   "pygments_lexer": "ipython3",
   "version": "3.7.0"
  }
 },
 "nbformat": 4,
 "nbformat_minor": 2
}
